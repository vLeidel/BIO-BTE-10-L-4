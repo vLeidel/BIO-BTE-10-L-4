
        {
            "cells": [
          {
           "cell_type": "markdown",
           "metadata": {},
           
           "source": ["// can\u0027t yet format YamlFrontmatter ([\"title: Adding download badges\"; \"category: sample content\"; \"categoryindex: 1\"; \"index: 5\"], Some { StartLine = 2 StartColumn = 0 EndLine = 6 EndColumn = 8 }) to pynb markdown\n",
"\n",
"# Adding download badges\n",
"\n",
"## Notebook download\n",
"\n",
"`[![Script](http://localhost:8901/img/badge-script.svg)](http://localhost:8901/4_download-badges.fsx)`\n",
"\n",
"becomes\n",
"\n",
"[![Script](http://localhost:8901/img/badge-script.svg)](http://localhost:8901/4_download-badges.fsx)\n",
"\n",
"(you might need to adjust the paths if there are any more levels between `http://localhost:8901/` and `img/badge-script.svg` or `4_download-badges`)\n",
"\n",
"## Script download\n",
"\n",
"`[![Notebook](http://localhost:8901/img/badge-notebook.svg)](http://localhost:8901/4_download-badges.ipynb)`\n",
"\n",
"becomes\n",
"\n",
"[![Notebook](http://localhost:8901/img/badge-notebook.svg)](http://localhost:8901/4_download-badges.ipynb)\n",
"\n",
"(you might need to adjust the paths if there are any more levels between `http://localhost:8901/` and `img/badge-script.svg` or `4_download-badges`)\n",
"\n",
"## Multiple badges in one line\n",
"\n",
"To add multiple badges to appear on the same line like this:\n",
"\n",
"[![Binder](http://localhost:8901/img/badge-binder.svg)](https://mybinder.org/v2/gh/plotly/Plotly.NET/gh-pages?filepath=4_download-badges.ipynb)\u0026emsp;\n",
"[![Script](http://localhost:8901/img/badge-script.svg)](http://localhost:8901/4_download-badges.fsx)\u0026emsp;\n",
"[![Notebook](http://localhost:8901/img/badge-notebook.svg)](http://localhost:8901/4_download-badges.ipynb)\n",
"\n",
"add a `\u0026emsp;` after the first two badges in you markdown:\n",
"\n",
"`[![Binder](http://localhost:8901/img/badge-binder.svg)](https://mybinder.org/v2/gh/plotly/Plotly.NET/gh-pages?filepath=4_download-badges.ipynb)\u0026emsp;`\n",
"\n",
"`[![Script](http://localhost:8901/img/badge-script.svg)](http://localhost:8901/4_download-badges.fsx)\u0026emsp;`\n",
"\n",
"`[![Notebook](http://localhost:8901/img/badge-notebook.svg)](http://localhost:8901/4_download-badges.ipynb)`\n",
"\n"]
          }],
            "metadata": {
            "kernelspec": {"display_name": ".NET (F#)", "language": "F#", "name": ".net-fsharp"},
            "langauge_info": {
        "file_extension": ".fs",
        "mimetype": "text/x-fsharp",
        "name": "C#",
        "pygments_lexer": "fsharp",
        "version": "4.5"
        }
        },
            "nbformat": 4,
            "nbformat_minor": 1
        }
        

